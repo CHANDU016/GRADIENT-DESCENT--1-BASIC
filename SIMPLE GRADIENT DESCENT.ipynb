{
 "cells": [
  {
   "cell_type": "code",
   "execution_count": 1,
   "id": "98d6185b",
   "metadata": {},
   "outputs": [],
   "source": [
    "import numpy as np\n",
    "\n",
    "def gradient_descent(X, y, learning_rate, epochs):\n",
    "    # Initialize parameters\n",
    "    weight = np.random.randn()\n",
    "    bias = np.random.randn()\n",
    "\n",
    "    for epoch in range(epochs):\n",
    "        # Calculate predictions\n",
    "        y_pred = weight * X + bias\n",
    "\n",
    "        # Calculate the error\n",
    "        error = y_pred - y\n",
    "\n",
    "        # Calculate gradients\n",
    "        d_weight = (2/len(X)) * np.dot(X.T, error)\n",
    "        d_bias = (2/len(X)) * np.sum(error)\n",
    "\n",
    "        # Update parameters\n",
    "        weight -= learning_rate * d_weight\n",
    "        bias -= learning_rate * d_bias\n",
    "\n",
    "    return weight, bias"
   ]
  },
  {
   "cell_type": "code",
   "execution_count": 2,
   "id": "d3598094",
   "metadata": {},
   "outputs": [
    {
     "data": {
      "text/plain": [
       "(1.4220510553185985, -1.0596768497110904)"
      ]
     },
     "execution_count": 2,
     "metadata": {},
     "output_type": "execute_result"
    }
   ],
   "source": [
    "x = np.array([1, 2, 3, 4, 5])\n",
    "y = np.array([2, 2.8, 3.6, 4.5, 5.1])\n",
    "gradient_descent(x,y,0.01,10)"
   ]
  }
 ],
 "metadata": {
  "kernelspec": {
   "display_name": "Python 3 (ipykernel)",
   "language": "python",
   "name": "python3"
  },
  "language_info": {
   "codemirror_mode": {
    "name": "ipython",
    "version": 3
   },
   "file_extension": ".py",
   "mimetype": "text/x-python",
   "name": "python",
   "nbconvert_exporter": "python",
   "pygments_lexer": "ipython3",
   "version": "3.11.5"
  }
 },
 "nbformat": 4,
 "nbformat_minor": 5
}
